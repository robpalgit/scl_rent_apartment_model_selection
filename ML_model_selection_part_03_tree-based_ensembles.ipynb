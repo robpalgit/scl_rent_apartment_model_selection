{
 "cells": [
  {
   "cell_type": "markdown",
   "id": "6caa746b",
   "metadata": {},
   "source": [
    "This notebook shows the training of various decision-tree based regression models with several versions of the dataset without any normalization or standardization of the features."
   ]
  },
  {
   "cell_type": "markdown",
   "id": "76edeea8",
   "metadata": {},
   "source": [
    "## Import libraries"
   ]
  },
  {
   "cell_type": "code",
   "execution_count": 1,
   "id": "b264dd07",
   "metadata": {},
   "outputs": [],
   "source": [
    "from utils.sql_utils import extract_data_from_sql_db\n",
    "\n",
    "import matplotlib.pyplot as plt\n",
    "import seaborn as sb\n",
    "plt.style.use('bmh')\n",
    "\n",
    "import numpy as np\n",
    "import pandas as pd\n",
    "\n",
    "from scipy import stats"
   ]
  },
  {
   "cell_type": "code",
   "execution_count": 2,
   "id": "fef69979",
   "metadata": {},
   "outputs": [],
   "source": [
    "from sklearn.model_selection import train_test_split\n",
    "from sklearn.metrics import median_absolute_error\n",
    "\n",
    "# Decision tree-based algoritms\n",
    "from sklearn.tree import DecisionTreeRegressor\n",
    "from sklearn.ensemble import RandomForestRegressor\n",
    "from sklearn.ensemble import GradientBoostingRegressor\n",
    "from sklearn.ensemble import BaggingRegressor\n",
    "from sklearn.ensemble import ExtraTreesRegressor\n",
    "from sklearn.experimental import enable_hist_gradient_boosting\n",
    "from sklearn.ensemble import HistGradientBoostingRegressor\n",
    "from xgboost import XGBRegressor\n",
    "from lightgbm import LGBMRegressor\n",
    "from catboost import CatBoostRegressor"
   ]
  },
  {
   "cell_type": "markdown",
   "id": "7d1e07e8",
   "metadata": {},
   "source": [
    "## Load data"
   ]
  },
  {
   "cell_type": "code",
   "execution_count": 3,
   "id": "fde36373",
   "metadata": {},
   "outputs": [],
   "source": [
    "filter_params = {\n",
    "    'year': 2021,\n",
    "    'month': 1,\n",
    "    'property_type': 'apartment',\n",
    "    'operation': 'rent'\n",
    "}\n",
    "\n",
    "df = extract_data_from_sql_db(**filter_params)\n",
    "\n",
    "# Create new variables\n",
    "df['balcony_area'] = df['total_area_m2'] - df['covered_area_m2']\n",
    "df['has_balcony_yn'] = np.where(df['balcony_area']==0, 0, 1)"
   ]
  },
  {
   "cell_type": "markdown",
   "id": "ccffcb58",
   "metadata": {},
   "source": [
    "## Clean data"
   ]
  },
  {
   "cell_type": "code",
   "execution_count": 4,
   "id": "abbeb44f",
   "metadata": {},
   "outputs": [],
   "source": [
    "comunas_list = [\n",
    "    'Santiago',\n",
    "    'Las Condes',\n",
    "    'Providencia',\n",
    "    'Ñuñoa',\n",
    "    'Vitacura',\n",
    "    'Estación Central',\n",
    "    'San Miguel',\n",
    "    'Independencia',\n",
    "    'Lo Barnechea',\n",
    "    'Macul',\n",
    "    'La Florida',\n",
    "    'Recoleta',\n",
    "    'Quinta Normal',\n",
    "    'La Cisterna',\n",
    "    'San Joaquín',\n",
    "    'La Reina',\n",
    "    'Huechuraba'\n",
    "]"
   ]
  },
  {
   "cell_type": "code",
   "execution_count": 5,
   "id": "5e398eb3",
   "metadata": {},
   "outputs": [],
   "source": [
    "neighborhoods_list = [\n",
    "    # Huechuraba\n",
    "    'Pedro Fontova',\n",
    "    'Bosques De La Pirámide',\n",
    "    'Ciudad Empresarial',\n",
    "    'Huechuraba',\n",
    "    # La Reina\n",
    "    'Blest Gana',\n",
    "    'La Reina',\n",
    "    'Metro Príncipe De Gales - Country Club',\n",
    "    'Metro Simón Bolivar',\n",
    "    'Carlos Ossandón',\n",
    "    # San Joaquín\n",
    "    'Rodrigo De Araya',\n",
    "    'San Joaquín',\n",
    "    'Carlos Valdovinos',\n",
    "    'Metro San Joaquín',\n",
    "    # La Cisterna\n",
    "    'Lo Ovalle',\n",
    "    'Metro La Cisterna',\n",
    "    'La Cisterna',\n",
    "    'El Parrón',\n",
    "    # Quinta Normal\n",
    "    'Gruta De Lourdes',\n",
    "    'Quinta Normal',\n",
    "    'Parque Padre Renato Poblete',\n",
    "    'Blanqueado',\n",
    "    'Salvador Gutiérrez',\n",
    "    # Recoleta\n",
    "    'Cerro Blanco',\n",
    "    'Bellavista',\n",
    "    'Recoleta',\n",
    "    'Patronato',\n",
    "    'Cementerios',\n",
    "    # La Florida\n",
    "    'Plaza Vespucio',\n",
    "    'La Florida',\n",
    "    'Vicente Valdés',\n",
    "    'Metro Mirador',\n",
    "    'La Florida Alto',\n",
    "    'Rojas Magallanes',\n",
    "    # Macul\n",
    "    'Macul',\n",
    "    'Metro Camino Agrícola',\n",
    "    'Metro Las Torres',\n",
    "    'Villa Macul',\n",
    "    'Las Dalias',\n",
    "    'Santa Julia De Macul',\n",
    "    'Escuela Agrícola',\n",
    "    'Metro Carlos Valdovinos',\n",
    "    'Metro Macul',\n",
    "    'Metro Quilín',\n",
    "    'Metro Los Presidentes',\n",
    "    # Lo Barnechea\n",
    "    'La Dehesa',\n",
    "    'Lo Barnechea',\n",
    "    'Puente Nuevo',\n",
    "    'Los Trapenses',\n",
    "    'El Huinganal',\n",
    "    'Plaza San Enrique',\n",
    "    'Valle Escondido',\n",
    "    # Independencia\n",
    "    'Hospitales',\n",
    "    'Plaza Chacabuco',\n",
    "    'Independencia',\n",
    "    'Juan Antonio Ríos',\n",
    "    'Metro Cal Y Canto',\n",
    "    # San Miguel\n",
    "    'Lo Vial',\n",
    "    'Ciudad Del Niño',\n",
    "    'El Llano',\n",
    "#     'San Miguel',\n",
    "    # Estación Central\n",
    "    'San Alberto Hurtado',\n",
    "    'Metro Ecuador',\n",
    "    'Metro Las Rejas',\n",
    "    'Universidad De Santiago',\n",
    "    # Vitacura\n",
    "    'Parque Bicentenario',\n",
    "    'Pío Xi',\n",
    "    'Tabancura',\n",
    "#     'Vitacura',\n",
    "    'Jardín Del Este',\n",
    "    'La Llavería',\n",
    "    'Juan Xxiii',\n",
    "    'Santa María De Manquehue',\n",
    "    'Estadio Manquehue',\n",
    "    'Borde Río - Casa Piedra',\n",
    "    'Lo Curro',\n",
    "    'Estadio Croata',\n",
    "    'Nuestra Señora Del Rosario',\n",
    "    'Villa El Dorado',\n",
    "    # Ñuñoa\n",
    "    'Metro Irarrázaval',\n",
    "    'Plaza Ñuñoa',\n",
    "    'Metro Monseñor Eyzaguirre',\n",
    "    'Metro Ñuñoa',\n",
    "    'Estadio Nacional',\n",
    "    'Plaza Egaña',\n",
    "    'Parque Juan Xxiii',\n",
    "    'Parque San Eugenio - Metro Ñuble',\n",
    "    'Diagonal Oriente',\n",
    "    'Metro Simón Bolivar',\n",
    "    'Juan Gómez Millas',\n",
    "    'Villa Frei',\n",
    "    'Diego De Almagro',\n",
    "    'Parque Botánico',\n",
    "    'Amapolas',\n",
    "    # Providencia\n",
    "    'Los Leones',\n",
    "    'Las Lilas',\n",
    "    'Pedro De Valdivia',\n",
    "    'Manuel Montt',\n",
    "    'Metro Tobalaba - Mall Costanera',\n",
    "    'Salvador',\n",
    "    'Inés De Suárez',\n",
    "    'Barrio Italia',\n",
    "    'Campus Oriente',\n",
    "    'Plaza Italia',\n",
    "    'Metro Bilbao',\n",
    "    'Pedro De Valdivia Norte',\n",
    "    'Bellavista',\n",
    "    # Las Condes\n",
    "    'Barrio El Golf',\n",
    "    'Metro Escuela Militar',\n",
    "    'Metro Manquehue - Apumanque',\n",
    "    'Parque Arauco',\n",
    "    'Centro Financiero',\n",
    "    'Nueva Las Condes',\n",
    "    'Metro Hernando De Magallanes',\n",
    "    'Sebastián Elcano',\n",
    "    'Alto Las Condes',\n",
    "    'Vaticano',\n",
    "    'Rotonda Atenas',\n",
    "    'Mall Sport',\n",
    "    'San Carlos De Apoquindo',\n",
    "    'Los Dominicos',\n",
    "    'Estoril',\n",
    "    'San Damián',\n",
    "    'Parque Padre Alberto Hurtado',\n",
    "    'Colón Oriente - Vital Apoquindo',\n",
    "    # Santiago\n",
    "    'Centro Histórico De Santiago',\n",
    "    'Santa Isabel',\n",
    "    'Bulnes',\n",
    "    'San Diego',\n",
    "    'Parque Almagro',\n",
    "    'Bogotá - Sierra Bella',\n",
    "    \"Parque O'Higgins\",\n",
    "    'Ejército - Toesca',\n",
    "    'Barrio Diez De Julio',\n",
    "    'Barrio Yungay',\n",
    "    'Barrio Brasil',\n",
    "    'Barrio República',\n",
    "    'Barrio Lastarria',\n",
    "    'Franklin - Biobío',\n",
    "    'Parque Los Reyes',\n",
    "    'Barrio San Borja'\n",
    "]"
   ]
  },
  {
   "cell_type": "code",
   "execution_count": 6,
   "id": "5774ce9e",
   "metadata": {},
   "outputs": [],
   "source": [
    "to_delete = df[\n",
    "    (df['comuna'].isin(comunas_list)==False) |\n",
    "    (df['neighborhood'].isin(neighborhoods_list)==False) |\n",
    "    (df['balcony_area'] > 100) |\n",
    "    (df['bathrooms'] > df['bedrooms'] + 1) |\n",
    "    (df['bathrooms'] < df['bedrooms'] - 2) |\n",
    "    ((df['bedrooms']==1) & (df['price'] > 2000000)) |\n",
    "    ((df['bedrooms']==2) & (df['price'] > 3000000)) |\n",
    "    ((df['comuna']=='Huechuraba') & (df['price'] >= 1000000)) |\n",
    "    ((df['comuna']=='La Reina') & (df['price'] >= 1000000)) |\n",
    "    ((df['comuna']=='San Joaquín') & (df['price'] >= 500000)) |\n",
    "    ((df['comuna']=='La Cisterna') & (df['price'] >= 500000)) |\n",
    "    ((df['comuna']=='Quinta Normal') & (df['price'] >= 500000)) |\n",
    "    ((df['comuna']=='Recoleta') & (df['price'] >= 700000)) |\n",
    "    ((df['comuna']=='La Florida') & (df['price'] >= 600000)) |\n",
    "    ((df['comuna']=='Macul') & (df['price'] >= 600000)) |\n",
    "    ((df['comuna']=='Independencia') & (df['price'] >= 500000)) |\n",
    "    ((df['comuna']=='San Miguel') & (df['price'] >= 700000)) |\n",
    "    ((df['comuna']=='Estación Central') & (df['price'] >= 500000)) |\n",
    "    ((df['comuna']=='Ñuñoa') & (df['price'] >= 1000000)) |\n",
    "    ((df['comuna']=='Providencia') & (df['price'] >= 1500000)) |\n",
    "    ((df['comuna']=='Santiago') & (df['price'] >= 1000000))\n",
    "].index.tolist()\n",
    "\n",
    "df.drop(to_delete, axis=0, inplace=True)"
   ]
  },
  {
   "cell_type": "code",
   "execution_count": 7,
   "id": "54f5b129",
   "metadata": {},
   "outputs": [],
   "source": [
    "# Delete rows of comuna-bedroom categories which have less than 5 properties\n",
    "rows_to_delete = []\n",
    "for cat in df['bedrooms'].unique():\n",
    "    data = df[df['bedrooms']==cat]\n",
    "    count_series = data['comuna'].value_counts()\n",
    "    comunas_to_delete = count_series[count_series < 5].index.tolist()\n",
    "    idx_list = data[data['comuna'].isin(comunas_to_delete)].index.tolist()\n",
    "    rows_to_delete.extend(idx_list)\n",
    "    \n",
    "df.drop(rows_to_delete, axis=0, inplace=True)"
   ]
  },
  {
   "cell_type": "code",
   "execution_count": 8,
   "id": "1bb03fc0",
   "metadata": {},
   "outputs": [
    {
     "data": {
      "text/html": [
       "<div>\n",
       "<style scoped>\n",
       "    .dataframe tbody tr th:only-of-type {\n",
       "        vertical-align: middle;\n",
       "    }\n",
       "\n",
       "    .dataframe tbody tr th {\n",
       "        vertical-align: top;\n",
       "    }\n",
       "\n",
       "    .dataframe thead th {\n",
       "        text-align: right;\n",
       "    }\n",
       "</style>\n",
       "<table border=\"1\" class=\"dataframe\">\n",
       "  <thead>\n",
       "    <tr style=\"text-align: right;\">\n",
       "      <th></th>\n",
       "      <th>price</th>\n",
       "      <th>bedrooms</th>\n",
       "      <th>bathrooms</th>\n",
       "      <th>covered_area_m2</th>\n",
       "      <th>total_area_m2</th>\n",
       "      <th>comuna</th>\n",
       "      <th>neighborhood</th>\n",
       "      <th>balcony_area</th>\n",
       "      <th>has_balcony_yn</th>\n",
       "    </tr>\n",
       "  </thead>\n",
       "  <tbody>\n",
       "    <tr>\n",
       "      <th>0</th>\n",
       "      <td>523546</td>\n",
       "      <td>1</td>\n",
       "      <td>1</td>\n",
       "      <td>50</td>\n",
       "      <td>60</td>\n",
       "      <td>Las Condes</td>\n",
       "      <td>Barrio El Golf</td>\n",
       "      <td>10</td>\n",
       "      <td>1</td>\n",
       "    </tr>\n",
       "    <tr>\n",
       "      <th>1</th>\n",
       "      <td>550000</td>\n",
       "      <td>1</td>\n",
       "      <td>1</td>\n",
       "      <td>30</td>\n",
       "      <td>30</td>\n",
       "      <td>Las Condes</td>\n",
       "      <td>Barrio El Golf</td>\n",
       "      <td>0</td>\n",
       "      <td>0</td>\n",
       "    </tr>\n",
       "    <tr>\n",
       "      <th>2</th>\n",
       "      <td>400000</td>\n",
       "      <td>1</td>\n",
       "      <td>1</td>\n",
       "      <td>37</td>\n",
       "      <td>37</td>\n",
       "      <td>Las Condes</td>\n",
       "      <td>Barrio El Golf</td>\n",
       "      <td>0</td>\n",
       "      <td>0</td>\n",
       "    </tr>\n",
       "    <tr>\n",
       "      <th>3</th>\n",
       "      <td>465375</td>\n",
       "      <td>1</td>\n",
       "      <td>1</td>\n",
       "      <td>48</td>\n",
       "      <td>51</td>\n",
       "      <td>Las Condes</td>\n",
       "      <td>Barrio El Golf</td>\n",
       "      <td>3</td>\n",
       "      <td>1</td>\n",
       "    </tr>\n",
       "    <tr>\n",
       "      <th>4</th>\n",
       "      <td>450000</td>\n",
       "      <td>1</td>\n",
       "      <td>1</td>\n",
       "      <td>45</td>\n",
       "      <td>45</td>\n",
       "      <td>Las Condes</td>\n",
       "      <td>Barrio El Golf</td>\n",
       "      <td>0</td>\n",
       "      <td>0</td>\n",
       "    </tr>\n",
       "  </tbody>\n",
       "</table>\n",
       "</div>"
      ],
      "text/plain": [
       "    price  bedrooms  bathrooms  covered_area_m2  total_area_m2      comuna  \\\n",
       "0  523546         1          1               50             60  Las Condes   \n",
       "1  550000         1          1               30             30  Las Condes   \n",
       "2  400000         1          1               37             37  Las Condes   \n",
       "3  465375         1          1               48             51  Las Condes   \n",
       "4  450000         1          1               45             45  Las Condes   \n",
       "\n",
       "     neighborhood  balcony_area  has_balcony_yn  \n",
       "0  Barrio El Golf            10               1  \n",
       "1  Barrio El Golf             0               0  \n",
       "2  Barrio El Golf             0               0  \n",
       "3  Barrio El Golf             3               1  \n",
       "4  Barrio El Golf             0               0  "
      ]
     },
     "execution_count": 8,
     "metadata": {},
     "output_type": "execute_result"
    }
   ],
   "source": [
    "df.head()"
   ]
  },
  {
   "cell_type": "markdown",
   "id": "9bd440a2",
   "metadata": {},
   "source": [
    "## Check cleaned data"
   ]
  },
  {
   "cell_type": "code",
   "execution_count": 9,
   "id": "25faa849",
   "metadata": {},
   "outputs": [
    {
     "data": {
      "text/html": [
       "<div>\n",
       "<style scoped>\n",
       "    .dataframe tbody tr th:only-of-type {\n",
       "        vertical-align: middle;\n",
       "    }\n",
       "\n",
       "    .dataframe tbody tr th {\n",
       "        vertical-align: top;\n",
       "    }\n",
       "\n",
       "    .dataframe thead th {\n",
       "        text-align: right;\n",
       "    }\n",
       "</style>\n",
       "<table border=\"1\" class=\"dataframe\">\n",
       "  <thead>\n",
       "    <tr style=\"text-align: right;\">\n",
       "      <th></th>\n",
       "      <th>price</th>\n",
       "      <th>covered_area_m2</th>\n",
       "      <th>total_area_m2</th>\n",
       "    </tr>\n",
       "  </thead>\n",
       "  <tbody>\n",
       "    <tr>\n",
       "      <th>count</th>\n",
       "      <td>17796</td>\n",
       "      <td>17796</td>\n",
       "      <td>17796</td>\n",
       "    </tr>\n",
       "    <tr>\n",
       "      <th>mean</th>\n",
       "      <td>586464</td>\n",
       "      <td>68</td>\n",
       "      <td>74</td>\n",
       "    </tr>\n",
       "    <tr>\n",
       "      <th>std</th>\n",
       "      <td>470564</td>\n",
       "      <td>48</td>\n",
       "      <td>55</td>\n",
       "    </tr>\n",
       "    <tr>\n",
       "      <th>min</th>\n",
       "      <td>175000</td>\n",
       "      <td>16</td>\n",
       "      <td>16</td>\n",
       "    </tr>\n",
       "    <tr>\n",
       "      <th>25%</th>\n",
       "      <td>310000</td>\n",
       "      <td>38</td>\n",
       "      <td>40</td>\n",
       "    </tr>\n",
       "    <tr>\n",
       "      <th>50%</th>\n",
       "      <td>420000</td>\n",
       "      <td>50</td>\n",
       "      <td>54</td>\n",
       "    </tr>\n",
       "    <tr>\n",
       "      <th>75%</th>\n",
       "      <td>670000</td>\n",
       "      <td>80</td>\n",
       "      <td>87</td>\n",
       "    </tr>\n",
       "    <tr>\n",
       "      <th>max</th>\n",
       "      <td>4072028</td>\n",
       "      <td>500</td>\n",
       "      <td>600</td>\n",
       "    </tr>\n",
       "  </tbody>\n",
       "</table>\n",
       "</div>"
      ],
      "text/plain": [
       "         price  covered_area_m2  total_area_m2\n",
       "count    17796            17796          17796\n",
       "mean    586464               68             74\n",
       "std     470564               48             55\n",
       "min     175000               16             16\n",
       "25%     310000               38             40\n",
       "50%     420000               50             54\n",
       "75%     670000               80             87\n",
       "max    4072028              500            600"
      ]
     },
     "execution_count": 9,
     "metadata": {},
     "output_type": "execute_result"
    }
   ],
   "source": [
    "df[['price', 'covered_area_m2', 'total_area_m2']].describe().astype('int')"
   ]
  },
  {
   "cell_type": "code",
   "execution_count": 10,
   "id": "a8557d93",
   "metadata": {},
   "outputs": [],
   "source": [
    "df['comuna'] = df['comuna'].astype('category')\n",
    "df['neighborhood'] = df['neighborhood'].astype('category')"
   ]
  },
  {
   "cell_type": "code",
   "execution_count": 11,
   "id": "c40a6a3e",
   "metadata": {},
   "outputs": [
    {
     "name": "stdout",
     "output_type": "stream",
     "text": [
      "<class 'pandas.core.frame.DataFrame'>\n",
      "Int64Index: 17796 entries, 0 to 18190\n",
      "Data columns (total 9 columns):\n",
      " #   Column           Non-Null Count  Dtype   \n",
      "---  ------           --------------  -----   \n",
      " 0   price            17796 non-null  int64   \n",
      " 1   bedrooms         17796 non-null  int64   \n",
      " 2   bathrooms        17796 non-null  int64   \n",
      " 3   covered_area_m2  17796 non-null  int64   \n",
      " 4   total_area_m2    17796 non-null  int64   \n",
      " 5   comuna           17796 non-null  category\n",
      " 6   neighborhood     17796 non-null  category\n",
      " 7   balcony_area     17796 non-null  int64   \n",
      " 8   has_balcony_yn   17796 non-null  int32   \n",
      "dtypes: category(2), int32(1), int64(6)\n",
      "memory usage: 1.1 MB\n"
     ]
    }
   ],
   "source": [
    "df.info()"
   ]
  },
  {
   "cell_type": "markdown",
   "id": "5a268c23",
   "metadata": {},
   "source": [
    "## Train machine learning models"
   ]
  },
  {
   "cell_type": "code",
   "execution_count": 12,
   "id": "7868badd",
   "metadata": {},
   "outputs": [],
   "source": [
    "TRAIN_SIZE = 0.80\n",
    "\n",
    "features_list = [\n",
    "    ['bedrooms', 'bathrooms', 'covered_area_m2', 'comuna', 'neighborhood'], # dataset 01\n",
    "    ['bedrooms', 'bathrooms', 'total_area_m2', 'comuna', 'neighborhood'], # dataset 02\n",
    "    ['bedrooms', 'bathrooms', 'covered_area_m2', 'total_area_m2', 'comuna', 'neighborhood'], # dataset 03\n",
    "    ['bedrooms', 'bathrooms', 'covered_area_m2', 'has_balcony_yn', 'comuna', 'neighborhood'], # dataset 04\n",
    "    ['bedrooms', 'bathrooms', 'total_area_m2', 'has_balcony_yn', 'comuna', 'neighborhood'], # dataset 05\n",
    "    ['bedrooms', 'bathrooms', 'covered_area_m2', 'balcony_area', 'comuna', 'neighborhood'], # dataset 06\n",
    "    ['bedrooms', 'bathrooms', 'total_area_m2', 'balcony_area', 'comuna', 'neighborhood'] # dataset 07\n",
    "]\n",
    "\n",
    "data_dict = dict()\n",
    "\n",
    "for idx, features in enumerate(features_list):\n",
    "    # Define features and target\n",
    "    X = df[features]\n",
    "    y = df['price']\n",
    "    \n",
    "    # Get dummy variables\n",
    "    X = pd.get_dummies(X)\n",
    "    \n",
    "    # Train / Test split\n",
    "    X_train, X_test, y_train, y_test = train_test_split(X, y, \n",
    "                                                        train_size=TRAIN_SIZE, \n",
    "                                                        random_state=21)\n",
    "    \n",
    "    seed_dict = dict()\n",
    "    \n",
    "    for num in range(10):\n",
    "        SEED = num\n",
    "    \n",
    "        ml_models = {\n",
    "            'DecisionTree': DecisionTreeRegressor(random_state=SEED),\n",
    "            'RandomForest': RandomForestRegressor(random_state=SEED, \n",
    "                                                  n_jobs=-1),\n",
    "            'GradientBoosting': GradientBoostingRegressor(random_state=SEED),\n",
    "            'Bagging': BaggingRegressor(random_state=SEED, \n",
    "                                        n_jobs=-1),\n",
    "            'ExtraTrees': ExtraTreesRegressor(random_state=SEED, \n",
    "                                              n_jobs=-1),\n",
    "            'HistGradientBoosting': HistGradientBoostingRegressor(random_state=SEED),\n",
    "            'XGBoost': XGBRegressor(use_label_encoder=False, \n",
    "                                    eval_metric='mae', \n",
    "                                    objective='reg:squarederror', \n",
    "                                    random_state=SEED, \n",
    "                                    n_jobs=-1),\n",
    "            'LightGBM': LGBMRegressor(random_state=SEED, \n",
    "                                      n_jobs=-1),\n",
    "            'CatBoost': CatBoostRegressor(random_seed=SEED, \n",
    "                                          silent=True)\n",
    "        }\n",
    "    \n",
    "        # Train models\n",
    "        scores = []\n",
    "        for key in ml_models:\n",
    "            estimator = ml_models[key]\n",
    "            estimator.fit(X_train, y_train)\n",
    "            y_pred = estimator.predict(X_test)\n",
    "            score = int(median_absolute_error(y_test, y_pred))\n",
    "            scores.append(score)\n",
    "    \n",
    "        seed_dict['seed_{}'.format(num)] = scores\n",
    "    \n",
    "    data_dict['dataset_0{}'.format(idx + 1)] = seed_dict"
   ]
  },
  {
   "cell_type": "code",
   "execution_count": 13,
   "id": "0db51995",
   "metadata": {},
   "outputs": [
    {
     "data": {
      "text/html": [
       "<div>\n",
       "<style scoped>\n",
       "    .dataframe tbody tr th:only-of-type {\n",
       "        vertical-align: middle;\n",
       "    }\n",
       "\n",
       "    .dataframe tbody tr th {\n",
       "        vertical-align: top;\n",
       "    }\n",
       "\n",
       "    .dataframe thead th {\n",
       "        text-align: right;\n",
       "    }\n",
       "</style>\n",
       "<table border=\"1\" class=\"dataframe\">\n",
       "  <thead>\n",
       "    <tr style=\"text-align: right;\">\n",
       "      <th></th>\n",
       "      <th></th>\n",
       "      <th>DecisionTree</th>\n",
       "      <th>RandomForest</th>\n",
       "      <th>GradientBoosting</th>\n",
       "      <th>Bagging</th>\n",
       "      <th>ExtraTrees</th>\n",
       "      <th>HistGradientBoosting</th>\n",
       "      <th>XGBoost</th>\n",
       "      <th>LightGBM</th>\n",
       "      <th>CatBoost</th>\n",
       "    </tr>\n",
       "  </thead>\n",
       "  <tbody>\n",
       "    <tr>\n",
       "      <th rowspan=\"5\" valign=\"top\">dataset_01</th>\n",
       "      <th>seed_0</th>\n",
       "      <td>43877</td>\n",
       "      <td>40598</td>\n",
       "      <td>46351</td>\n",
       "      <td>41000</td>\n",
       "      <td>40717</td>\n",
       "      <td>43619</td>\n",
       "      <td>46765</td>\n",
       "      <td>41915</td>\n",
       "      <td>40833</td>\n",
       "    </tr>\n",
       "    <tr>\n",
       "      <th>seed_1</th>\n",
       "      <td>43876</td>\n",
       "      <td>40662</td>\n",
       "      <td>46351</td>\n",
       "      <td>42000</td>\n",
       "      <td>40308</td>\n",
       "      <td>42091</td>\n",
       "      <td>46765</td>\n",
       "      <td>41915</td>\n",
       "      <td>41397</td>\n",
       "    </tr>\n",
       "    <tr>\n",
       "      <th>seed_2</th>\n",
       "      <td>44500</td>\n",
       "      <td>41289</td>\n",
       "      <td>46351</td>\n",
       "      <td>41775</td>\n",
       "      <td>40994</td>\n",
       "      <td>42366</td>\n",
       "      <td>46765</td>\n",
       "      <td>41915</td>\n",
       "      <td>40863</td>\n",
       "    </tr>\n",
       "    <tr>\n",
       "      <th>seed_3</th>\n",
       "      <td>44190</td>\n",
       "      <td>40575</td>\n",
       "      <td>46351</td>\n",
       "      <td>41500</td>\n",
       "      <td>40816</td>\n",
       "      <td>42907</td>\n",
       "      <td>46765</td>\n",
       "      <td>41915</td>\n",
       "      <td>41198</td>\n",
       "    </tr>\n",
       "    <tr>\n",
       "      <th>seed_4</th>\n",
       "      <td>43895</td>\n",
       "      <td>40819</td>\n",
       "      <td>46351</td>\n",
       "      <td>40879</td>\n",
       "      <td>40716</td>\n",
       "      <td>42081</td>\n",
       "      <td>46765</td>\n",
       "      <td>41915</td>\n",
       "      <td>40577</td>\n",
       "    </tr>\n",
       "    <tr>\n",
       "      <th>...</th>\n",
       "      <th>...</th>\n",
       "      <td>...</td>\n",
       "      <td>...</td>\n",
       "      <td>...</td>\n",
       "      <td>...</td>\n",
       "      <td>...</td>\n",
       "      <td>...</td>\n",
       "      <td>...</td>\n",
       "      <td>...</td>\n",
       "      <td>...</td>\n",
       "    </tr>\n",
       "    <tr>\n",
       "      <th rowspan=\"5\" valign=\"top\">dataset_07</th>\n",
       "      <th>seed_5</th>\n",
       "      <td>41306</td>\n",
       "      <td>39038</td>\n",
       "      <td>44927</td>\n",
       "      <td>39247</td>\n",
       "      <td>40000</td>\n",
       "      <td>41087</td>\n",
       "      <td>44847</td>\n",
       "      <td>39724</td>\n",
       "      <td>39181</td>\n",
       "    </tr>\n",
       "    <tr>\n",
       "      <th>seed_6</th>\n",
       "      <td>41464</td>\n",
       "      <td>39005</td>\n",
       "      <td>44927</td>\n",
       "      <td>39751</td>\n",
       "      <td>40000</td>\n",
       "      <td>41130</td>\n",
       "      <td>44847</td>\n",
       "      <td>39724</td>\n",
       "      <td>39784</td>\n",
       "    </tr>\n",
       "    <tr>\n",
       "      <th>seed_7</th>\n",
       "      <td>40916</td>\n",
       "      <td>39413</td>\n",
       "      <td>44927</td>\n",
       "      <td>40244</td>\n",
       "      <td>40000</td>\n",
       "      <td>41114</td>\n",
       "      <td>44847</td>\n",
       "      <td>39724</td>\n",
       "      <td>39179</td>\n",
       "    </tr>\n",
       "    <tr>\n",
       "      <th>seed_8</th>\n",
       "      <td>42018</td>\n",
       "      <td>38749</td>\n",
       "      <td>44927</td>\n",
       "      <td>39928</td>\n",
       "      <td>40000</td>\n",
       "      <td>43915</td>\n",
       "      <td>44847</td>\n",
       "      <td>39724</td>\n",
       "      <td>39671</td>\n",
       "    </tr>\n",
       "    <tr>\n",
       "      <th>seed_9</th>\n",
       "      <td>40387</td>\n",
       "      <td>38999</td>\n",
       "      <td>44927</td>\n",
       "      <td>40373</td>\n",
       "      <td>40000</td>\n",
       "      <td>40769</td>\n",
       "      <td>44847</td>\n",
       "      <td>39724</td>\n",
       "      <td>39369</td>\n",
       "    </tr>\n",
       "  </tbody>\n",
       "</table>\n",
       "<p>70 rows × 9 columns</p>\n",
       "</div>"
      ],
      "text/plain": [
       "                   DecisionTree  RandomForest  GradientBoosting  Bagging  \\\n",
       "dataset_01 seed_0         43877         40598             46351    41000   \n",
       "           seed_1         43876         40662             46351    42000   \n",
       "           seed_2         44500         41289             46351    41775   \n",
       "           seed_3         44190         40575             46351    41500   \n",
       "           seed_4         43895         40819             46351    40879   \n",
       "...                         ...           ...               ...      ...   \n",
       "dataset_07 seed_5         41306         39038             44927    39247   \n",
       "           seed_6         41464         39005             44927    39751   \n",
       "           seed_7         40916         39413             44927    40244   \n",
       "           seed_8         42018         38749             44927    39928   \n",
       "           seed_9         40387         38999             44927    40373   \n",
       "\n",
       "                   ExtraTrees  HistGradientBoosting  XGBoost  LightGBM  \\\n",
       "dataset_01 seed_0       40717                 43619    46765     41915   \n",
       "           seed_1       40308                 42091    46765     41915   \n",
       "           seed_2       40994                 42366    46765     41915   \n",
       "           seed_3       40816                 42907    46765     41915   \n",
       "           seed_4       40716                 42081    46765     41915   \n",
       "...                       ...                   ...      ...       ...   \n",
       "dataset_07 seed_5       40000                 41087    44847     39724   \n",
       "           seed_6       40000                 41130    44847     39724   \n",
       "           seed_7       40000                 41114    44847     39724   \n",
       "           seed_8       40000                 43915    44847     39724   \n",
       "           seed_9       40000                 40769    44847     39724   \n",
       "\n",
       "                   CatBoost  \n",
       "dataset_01 seed_0     40833  \n",
       "           seed_1     41397  \n",
       "           seed_2     40863  \n",
       "           seed_3     41198  \n",
       "           seed_4     40577  \n",
       "...                     ...  \n",
       "dataset_07 seed_5     39181  \n",
       "           seed_6     39784  \n",
       "           seed_7     39179  \n",
       "           seed_8     39671  \n",
       "           seed_9     39369  \n",
       "\n",
       "[70 rows x 9 columns]"
      ]
     },
     "execution_count": 13,
     "metadata": {},
     "output_type": "execute_result"
    }
   ],
   "source": [
    "nested_dict = {\n",
    "    (i,j): data_dict[i][j] \n",
    "    for i in data_dict.keys() \n",
    "    for j in data_dict[i].keys()\n",
    "}\n",
    "\n",
    "mux = pd.MultiIndex.from_tuples(nested_dict.keys())\n",
    "results = pd.DataFrame(list(nested_dict.values()), index=mux, columns=ml_models.keys())\n",
    "results"
   ]
  },
  {
   "cell_type": "markdown",
   "id": "8e05c0c4",
   "metadata": {},
   "source": [
    "## Analyze results"
   ]
  },
  {
   "cell_type": "code",
   "execution_count": 14,
   "id": "02c1103f",
   "metadata": {},
   "outputs": [
    {
     "data": {
      "image/png": "[encoded data removed]",
      "text/plain": [
       "<Figure size 864x288 with 1 Axes>"
      ]
     },
     "metadata": {
      "needs_background": "light"
     },
     "output_type": "display_data"
    },
    {
     "name": "stdout",
     "output_type": "stream",
     "text": [
      "RandomForest            39663.528571\n",
      "CatBoost                39728.685714\n",
      "ExtraTrees              40131.600000\n",
      "Bagging                 40417.157143\n",
      "LightGBM                40598.000000\n",
      "HistGradientBoosting    41471.428571\n",
      "DecisionTree            43539.242857\n",
      "XGBoost                 45256.285714\n",
      "GradientBoosting        45500.142857\n",
      "dtype: float64\n"
     ]
    }
   ],
   "source": [
    "plt.figure(figsize=(12,4))\n",
    "results.boxplot()\n",
    "plt.xticks(rotation=45, ha='right')\n",
    "plt.show()\n",
    "\n",
    "print(results.mean().sort_values())"
   ]
  },
  {
   "cell_type": "code",
   "execution_count": 15,
   "id": "f0b0fee7",
   "metadata": {},
   "outputs": [
    {
     "name": "stdout",
     "output_type": "stream",
     "text": [
      "RandomForest            38348\n",
      "CatBoost                38564\n",
      "Bagging                 39247\n",
      "HistGradientBoosting    39552\n",
      "LightGBM                39724\n",
      "ExtraTrees              39806\n",
      "DecisionTree            40387\n",
      "XGBoost                 44687\n",
      "GradientBoosting        44927\n",
      "dtype: int64\n"
     ]
    }
   ],
   "source": [
    "# Minimum values for each model\n",
    "print(results.min().sort_values())"
   ]
  },
  {
   "cell_type": "markdown",
   "id": "d6db12ef",
   "metadata": {},
   "source": [
    "### Measure difference between average score of best performing algorithms"
   ]
  },
  {
   "cell_type": "code",
   "execution_count": 29,
   "id": "580c1a73",
   "metadata": {},
   "outputs": [
    {
     "data": {
      "image/png": "[encoded data removed]",
      "text/plain": [
       "<Figure size 1080x360 with 3 Axes>"
      ]
     },
     "metadata": {
      "needs_background": "light"
     },
     "output_type": "display_data"
    }
   ],
   "source": [
    "fig, axes = plt.subplots(1, 3, figsize=(15, 5))\n",
    "best_models = results.mean().sort_values().index.tolist()[:3]\n",
    "\n",
    "for ax, name in zip(axes.flatten(), best_models):\n",
    "    sb.histplot(data=results[name], kde=True, ax=ax)\n",
    "    ax.set_title(name)\n",
    "    \n",
    "    fig.tight_layout()"
   ]
  },
  {
   "cell_type": "code",
   "execution_count": 17,
   "id": "eed3ab54",
   "metadata": {},
   "outputs": [
    {
     "name": "stdout",
     "output_type": "stream",
     "text": [
      "Ttest_relResult(statistic=-0.8440506227950222, pvalue=0.4015579952997743)\n",
      "WilcoxonResult(statistic=1066.0, pvalue=0.3016417705095874)\n"
     ]
    }
   ],
   "source": [
    "a = results['RandomForest'].values\n",
    "b = results['CatBoost'].values\n",
    "\n",
    "print(stats.ttest_rel(a, b))\n",
    "print(stats.wilcoxon(a, b))"
   ]
  },
  {
   "cell_type": "code",
   "execution_count": 18,
   "id": "bb9c6ed8",
   "metadata": {},
   "outputs": [
    {
     "name": "stdout",
     "output_type": "stream",
     "text": [
      "Ttest_relResult(statistic=-8.292445107423564, pvalue=5.833482418525848e-12)\n",
      "WilcoxonResult(statistic=209.0, pvalue=1.4642159118438566e-09)\n"
     ]
    }
   ],
   "source": [
    "a = results['RandomForest'].values\n",
    "b = results['ExtraTrees'].values\n",
    "\n",
    "print(stats.ttest_rel(a, b))\n",
    "print(stats.wilcoxon(a, b))"
   ]
  },
  {
   "cell_type": "code",
   "execution_count": 19,
   "id": "12f14006",
   "metadata": {},
   "outputs": [
    {
     "name": "stdout",
     "output_type": "stream",
     "text": [
      "Ttest_relResult(statistic=-5.152810172942229, pvalue=2.3250899693318894e-06)\n",
      "WilcoxonResult(statistic=490.0, pvalue=1.0638237206104543e-05)\n"
     ]
    }
   ],
   "source": [
    "a = results['CatBoost'].values\n",
    "b = results['ExtraTrees'].values\n",
    "\n",
    "print(stats.ttest_rel(a, b))\n",
    "print(stats.wilcoxon(a, b))"
   ]
  },
  {
   "cell_type": "markdown",
   "id": "0b57b245",
   "metadata": {},
   "source": [
    "#### We can assume that there is no difference in the average score between the two best performing algorithms which are Random Forest and CatBoost. Also we can assume that both algorithms perform better than the third best performing algorithm (ExtraTrees)."
   ]
  },
  {
   "cell_type": "markdown",
   "id": "2045c708",
   "metadata": {},
   "source": [
    "### Calculate score means by dataset"
   ]
  },
  {
   "cell_type": "code",
   "execution_count": 26,
   "id": "3dfa7dd7",
   "metadata": {},
   "outputs": [
    {
     "name": "stdout",
     "output_type": "stream",
     "text": [
      "dataset_07    41165.0\n",
      "dataset_02    41403.0\n",
      "dataset_05    41620.0\n",
      "dataset_06    41679.0\n",
      "dataset_03    41810.0\n",
      "dataset_04    42256.0\n",
      "dataset_01    42750.0\n",
      "dtype: float64\n"
     ]
    }
   ],
   "source": [
    "idx_list, dataset_means = [], []\n",
    "\n",
    "for i in range(7):\n",
    "    dataset_num = 'dataset_0{}'.format(i + 1)\n",
    "    idx_list.append(dataset_num)\n",
    "    score_mean = results.loc[(dataset_num), :].mean().mean()\n",
    "    dataset_means.append(score_mean)\n",
    "    \n",
    "print(round(pd.Series(dataset_means, index=idx_list).sort_values(), 0))"
   ]
  },
  {
   "cell_type": "markdown",
   "id": "8b041ce8",
   "metadata": {},
   "source": [
    "### Experiment with Random Forest"
   ]
  },
  {
   "cell_type": "code",
   "execution_count": 30,
   "id": "dd83e39a",
   "metadata": {},
   "outputs": [],
   "source": [
    "TRAIN_SIZE = 0.80\n",
    "\n",
    "features_list = [\n",
    "    ['bedrooms', 'bathrooms', 'covered_area_m2', 'comuna', 'neighborhood'], # dataset 01\n",
    "    ['bedrooms', 'bathrooms', 'total_area_m2', 'comuna', 'neighborhood'], # dataset 02\n",
    "    ['bedrooms', 'bathrooms', 'covered_area_m2', 'total_area_m2', 'comuna', 'neighborhood'], # dataset 03\n",
    "    ['bedrooms', 'bathrooms', 'covered_area_m2', 'has_balcony_yn', 'comuna', 'neighborhood'], # dataset 04\n",
    "    ['bedrooms', 'bathrooms', 'total_area_m2', 'has_balcony_yn', 'comuna', 'neighborhood'], # dataset 05\n",
    "    ['bedrooms', 'bathrooms', 'covered_area_m2', 'balcony_area', 'comuna', 'neighborhood'], # dataset 06\n",
    "    ['bedrooms', 'bathrooms', 'total_area_m2', 'balcony_area', 'comuna', 'neighborhood'] # dataset 07\n",
    "]\n",
    "\n",
    "# Create empty dataframe\n",
    "random_forest_results = pd.DataFrame()\n",
    "\n",
    "for idx, features in enumerate(features_list):\n",
    "    # Define features and target\n",
    "    X = df[features]\n",
    "    y = df['price']\n",
    "    \n",
    "    # Get dummy variables\n",
    "    X = pd.get_dummies(X)\n",
    "    \n",
    "    # Train / Test split\n",
    "    X_train, X_test, y_train, y_test = train_test_split(X, y, \n",
    "                                                        train_size=TRAIN_SIZE, \n",
    "                                                        random_state=21)\n",
    "    \n",
    "    # \n",
    "    scores = []\n",
    "    for num in range(100):\n",
    "        SEED = num\n",
    "        estimator = RandomForestRegressor(random_state=SEED, \n",
    "                                          n_jobs=-1)\n",
    "        estimator.fit(X_train, y_train)\n",
    "        y_pred = estimator.predict(X_test)\n",
    "        score = int(median_absolute_error(y_test, y_pred))\n",
    "        scores.append(score)\n",
    "    \n",
    "    random_forest_results['dataset_0{}'.format(idx + 1)] = scores"
   ]
  },
  {
   "cell_type": "code",
   "execution_count": 31,
   "id": "761491f3",
   "metadata": {},
   "outputs": [
    {
     "data": {
      "image/png": "[encoded data removed]",
      "text/plain": [
       "<Figure size 864x288 with 1 Axes>"
      ]
     },
     "metadata": {
      "needs_background": "light"
     },
     "output_type": "display_data"
    },
    {
     "name": "stdout",
     "output_type": "stream",
     "text": [
      "dataset_06    38778.05\n",
      "dataset_07    39124.55\n",
      "dataset_02    39601.88\n",
      "dataset_03    39603.98\n",
      "dataset_05    39870.51\n",
      "dataset_04    39960.82\n",
      "dataset_01    40604.20\n",
      "dtype: float64\n"
     ]
    }
   ],
   "source": [
    "plt.figure(figsize=(12,4))\n",
    "random_forest_results.boxplot()\n",
    "plt.show()\n",
    "\n",
    "print(random_forest_results.mean().sort_values())"
   ]
  },
  {
   "cell_type": "code",
   "execution_count": 32,
   "id": "64d3422b",
   "metadata": {},
   "outputs": [
    {
     "name": "stdout",
     "output_type": "stream",
     "text": [
      "39649.14142857143\n"
     ]
    }
   ],
   "source": [
    "print(random_forest_results.mean().mean())"
   ]
  },
  {
   "cell_type": "code",
   "execution_count": 33,
   "id": "a8812b4d",
   "metadata": {},
   "outputs": [
    {
     "data": {
      "image/png": "[encoded data removed]",
      "text/plain": [
       "<Figure size 720x360 with 2 Axes>"
      ]
     },
     "metadata": {
      "needs_background": "light"
     },
     "output_type": "display_data"
    }
   ],
   "source": [
    "fig, axes = plt.subplots(1, 2, figsize=(10, 5))\n",
    "best_datasets = random_forest_results.mean().sort_values().index.tolist()[:2]\n",
    "\n",
    "for ax, name in zip(axes.flatten(), best_datasets):\n",
    "    sb.histplot(data=random_forest_results[name], kde=True, ax=ax)\n",
    "    ax.set_title(name)\n",
    "    \n",
    "    fig.tight_layout()"
   ]
  },
  {
   "cell_type": "code",
   "execution_count": 34,
   "id": "4616fb73",
   "metadata": {},
   "outputs": [
    {
     "name": "stdout",
     "output_type": "stream",
     "text": [
      "Ttest_relResult(statistic=-10.422189533549144, pvalue=1.3145408402590313e-17)\n"
     ]
    }
   ],
   "source": [
    "a = random_forest_results['dataset_06'].values\n",
    "b = random_forest_results['dataset_07'].values\n",
    "\n",
    "print(stats.ttest_rel(a, b))"
   ]
  },
  {
   "cell_type": "markdown",
   "id": "9707c8c4",
   "metadata": {},
   "source": [
    "### Experiment with CatBoost"
   ]
  },
  {
   "cell_type": "code",
   "execution_count": 35,
   "id": "41836ac4",
   "metadata": {},
   "outputs": [],
   "source": [
    "TRAIN_SIZE = 0.80\n",
    "\n",
    "features_list = [\n",
    "    ['bedrooms', 'bathrooms', 'covered_area_m2', 'comuna', 'neighborhood'], # dataset 01\n",
    "    ['bedrooms', 'bathrooms', 'total_area_m2', 'comuna', 'neighborhood'], # dataset 02\n",
    "    ['bedrooms', 'bathrooms', 'covered_area_m2', 'total_area_m2', 'comuna', 'neighborhood'], # dataset 03\n",
    "    ['bedrooms', 'bathrooms', 'covered_area_m2', 'has_balcony_yn', 'comuna', 'neighborhood'], # dataset 04\n",
    "    ['bedrooms', 'bathrooms', 'total_area_m2', 'has_balcony_yn', 'comuna', 'neighborhood'], # dataset 05\n",
    "    ['bedrooms', 'bathrooms', 'covered_area_m2', 'balcony_area', 'comuna', 'neighborhood'], # dataset 06\n",
    "    ['bedrooms', 'bathrooms', 'total_area_m2', 'balcony_area', 'comuna', 'neighborhood'] # dataset 07\n",
    "]\n",
    "\n",
    "# Create empty dataframe\n",
    "catboost_results = pd.DataFrame()\n",
    "\n",
    "for idx, features in enumerate(features_list):\n",
    "    # Define features and target\n",
    "    X = df[features]\n",
    "    y = df['price']\n",
    "    \n",
    "    # Get dummy variables\n",
    "    X = pd.get_dummies(X)\n",
    "    \n",
    "    # Train / Test split\n",
    "    X_train, X_test, y_train, y_test = train_test_split(X, y, \n",
    "                                                        train_size=TRAIN_SIZE, \n",
    "                                                        random_state=21)\n",
    "    \n",
    "    # \n",
    "    scores = []\n",
    "    for num in range(100):\n",
    "        SEED = num\n",
    "        estimator = CatBoostRegressor(random_seed=SEED, \n",
    "                                      silent=True)\n",
    "        estimator.fit(X_train, y_train)\n",
    "        y_pred = estimator.predict(X_test)\n",
    "        score = int(median_absolute_error(y_test, y_pred))\n",
    "        scores.append(score)\n",
    "    \n",
    "    catboost_results['dataset_0{}'.format(idx + 1)] = scores"
   ]
  },
  {
   "cell_type": "code",
   "execution_count": 36,
   "id": "898a64d4",
   "metadata": {},
   "outputs": [
    {
     "data": {
      "image/png": "[encoded data removed]",
      "text/plain": [
       "<Figure size 864x288 with 1 Axes>"
      ]
     },
     "metadata": {
      "needs_background": "light"
     },
     "output_type": "display_data"
    },
    {
     "name": "stdout",
     "output_type": "stream",
     "text": [
      "dataset_02    39140.50\n",
      "dataset_05    39152.91\n",
      "dataset_06    39213.51\n",
      "dataset_07    39390.81\n",
      "dataset_03    39713.52\n",
      "dataset_04    40336.81\n",
      "dataset_01    41094.33\n",
      "dtype: float64\n"
     ]
    }
   ],
   "source": [
    "plt.figure(figsize=(12,4))\n",
    "catboost_results.boxplot()\n",
    "plt.show()\n",
    "\n",
    "print(catboost_results.mean().sort_values())"
   ]
  },
  {
   "cell_type": "code",
   "execution_count": 37,
   "id": "f17579f1",
   "metadata": {},
   "outputs": [
    {
     "name": "stdout",
     "output_type": "stream",
     "text": [
      "39720.34142857143\n"
     ]
    }
   ],
   "source": [
    "print(catboost_results.mean().mean())"
   ]
  },
  {
   "cell_type": "code",
   "execution_count": 38,
   "id": "83f89335",
   "metadata": {},
   "outputs": [
    {
     "name": "stdout",
     "output_type": "stream",
     "text": [
      "dataset_05    38499\n",
      "dataset_06    38501\n",
      "dataset_02    38524\n",
      "dataset_07    38692\n",
      "dataset_03    39002\n",
      "dataset_04    39549\n",
      "dataset_01    40349\n",
      "dtype: int64\n"
     ]
    }
   ],
   "source": [
    "print(catboost_results.min().sort_values())"
   ]
  },
  {
   "cell_type": "code",
   "execution_count": 39,
   "id": "4d3416bb",
   "metadata": {},
   "outputs": [
    {
     "data": {
      "image/png": "[encoded data removed]",
      "text/plain": [
       "<Figure size 1152x288 with 4 Axes>"
      ]
     },
     "metadata": {
      "needs_background": "light"
     },
     "output_type": "display_data"
    }
   ],
   "source": [
    "fig, axes = plt.subplots(1, 4, figsize=(16, 4))\n",
    "best_datasets = catboost_results.mean().sort_values().index.tolist()[:4]\n",
    "\n",
    "for ax, name in zip(axes.flatten(), best_datasets):\n",
    "    sb.histplot(data=catboost_results[name], kde=True, ax=ax)\n",
    "    ax.set_title(name)\n",
    "    \n",
    "    fig.tight_layout()"
   ]
  },
  {
   "cell_type": "code",
   "execution_count": 40,
   "id": "2faf6904",
   "metadata": {},
   "outputs": [
    {
     "name": "stdout",
     "output_type": "stream",
     "text": [
      "Ttest_relResult(statistic=-0.3329404010615218, pvalue=0.7398833013734922)\n"
     ]
    }
   ],
   "source": [
    "a = catboost_results['dataset_02'].values\n",
    "b = catboost_results['dataset_05'].values\n",
    "\n",
    "print(stats.ttest_rel(a, b))"
   ]
  },
  {
   "cell_type": "code",
   "execution_count": 41,
   "id": "5758eeb5",
   "metadata": {},
   "outputs": [
    {
     "name": "stdout",
     "output_type": "stream",
     "text": [
      "Ttest_relResult(statistic=-1.5305300336406094, pvalue=0.1290747890920247)\n"
     ]
    }
   ],
   "source": [
    "a = catboost_results['dataset_02'].values\n",
    "b = catboost_results['dataset_06'].values\n",
    "\n",
    "print(stats.ttest_rel(a, b))"
   ]
  },
  {
   "cell_type": "code",
   "execution_count": 42,
   "id": "4b17241f",
   "metadata": {},
   "outputs": [
    {
     "name": "stdout",
     "output_type": "stream",
     "text": [
      "Ttest_relResult(statistic=-5.930151557880404, pvalue=4.445669769129113e-08)\n"
     ]
    }
   ],
   "source": [
    "a = catboost_results['dataset_02'].values\n",
    "b = catboost_results['dataset_07'].values\n",
    "\n",
    "print(stats.ttest_rel(a, b))"
   ]
  },
  {
   "cell_type": "code",
   "execution_count": 43,
   "id": "284ae54d",
   "metadata": {},
   "outputs": [
    {
     "name": "stdout",
     "output_type": "stream",
     "text": [
      "Ttest_relResult(statistic=-3.6972245073437735, pvalue=0.00035778070326130995)\n"
     ]
    }
   ],
   "source": [
    "a = catboost_results['dataset_06'].values\n",
    "b = catboost_results['dataset_07'].values\n",
    "\n",
    "print(stats.ttest_rel(a, b))"
   ]
  },
  {
   "cell_type": "code",
   "execution_count": null,
   "id": "15110c67",
   "metadata": {},
   "outputs": [],
   "source": []
  }
 ],
 "metadata": {
  "kernelspec": {
   "display_name": "Python 3",
   "language": "python",
   "name": "python3"
  },
  "language_info": {
   "codemirror_mode": {
    "name": "ipython",
    "version": 3
   },
   "file_extension": ".py",
   "mimetype": "text/x-python",
   "name": "python",
   "nbconvert_exporter": "python",
   "pygments_lexer": "ipython3",
   "version": "3.7.3"
  }
 },
 "nbformat": 4,
 "nbformat_minor": 5
}
