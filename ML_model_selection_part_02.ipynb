{
 "cells": [
  {
   "cell_type": "code",
   "execution_count": 1,
   "id": "b264dd07",
   "metadata": {},
   "outputs": [],
   "source": [
    "import numpy as np\n",
    "import pandas as pd\n",
    "\n",
    "from time import time\n",
    "\n",
    "import matplotlib.pyplot as plt\n",
    "import seaborn as sb\n",
    "plt.style.use('bmh')"
   ]
  },
  {
   "cell_type": "code",
   "execution_count": 2,
   "id": "fef69979",
   "metadata": {},
   "outputs": [],
   "source": [
    "from sklearn.model_selection import KFold\n",
    "from sklearn.model_selection import cross_val_score\n",
    "from sklearn.metrics import median_absolute_error\n",
    "\n",
    "from sklearn.ensemble import RandomForestRegressor\n",
    "from lightgbm import LGBMRegressor\n",
    "from catboost import CatBoostRegressor"
   ]
  },
  {
   "cell_type": "markdown",
   "id": "7d1e07e8",
   "metadata": {},
   "source": [
    "## Load data"
   ]
  },
  {
   "cell_type": "code",
   "execution_count": 3,
   "id": "fde36373",
   "metadata": {},
   "outputs": [
    {
     "data": {
      "text/html": [
       "<div>\n",
       "<style scoped>\n",
       "    .dataframe tbody tr th:only-of-type {\n",
       "        vertical-align: middle;\n",
       "    }\n",
       "\n",
       "    .dataframe tbody tr th {\n",
       "        vertical-align: top;\n",
       "    }\n",
       "\n",
       "    .dataframe thead th {\n",
       "        text-align: right;\n",
       "    }\n",
       "</style>\n",
       "<table border=\"1\" class=\"dataframe\">\n",
       "  <thead>\n",
       "    <tr style=\"text-align: right;\">\n",
       "      <th></th>\n",
       "      <th>price</th>\n",
       "      <th>bedrooms</th>\n",
       "      <th>bathrooms</th>\n",
       "      <th>covered_area_m2</th>\n",
       "      <th>total_area_m2</th>\n",
       "      <th>comuna</th>\n",
       "      <th>neighborhood</th>\n",
       "      <th>balcony_area</th>\n",
       "      <th>has_balcony_yn</th>\n",
       "    </tr>\n",
       "  </thead>\n",
       "  <tbody>\n",
       "    <tr>\n",
       "      <th>0</th>\n",
       "      <td>523546</td>\n",
       "      <td>1</td>\n",
       "      <td>1</td>\n",
       "      <td>50</td>\n",
       "      <td>60</td>\n",
       "      <td>Las Condes</td>\n",
       "      <td>Las Condes - Grupo 3</td>\n",
       "      <td>10</td>\n",
       "      <td>1</td>\n",
       "    </tr>\n",
       "    <tr>\n",
       "      <th>1</th>\n",
       "      <td>550000</td>\n",
       "      <td>1</td>\n",
       "      <td>1</td>\n",
       "      <td>30</td>\n",
       "      <td>30</td>\n",
       "      <td>Las Condes</td>\n",
       "      <td>Las Condes - Grupo 3</td>\n",
       "      <td>0</td>\n",
       "      <td>0</td>\n",
       "    </tr>\n",
       "    <tr>\n",
       "      <th>2</th>\n",
       "      <td>400000</td>\n",
       "      <td>1</td>\n",
       "      <td>1</td>\n",
       "      <td>37</td>\n",
       "      <td>37</td>\n",
       "      <td>Las Condes</td>\n",
       "      <td>Las Condes - Grupo 3</td>\n",
       "      <td>0</td>\n",
       "      <td>0</td>\n",
       "    </tr>\n",
       "    <tr>\n",
       "      <th>3</th>\n",
       "      <td>465375</td>\n",
       "      <td>1</td>\n",
       "      <td>1</td>\n",
       "      <td>48</td>\n",
       "      <td>51</td>\n",
       "      <td>Las Condes</td>\n",
       "      <td>Las Condes - Grupo 3</td>\n",
       "      <td>3</td>\n",
       "      <td>1</td>\n",
       "    </tr>\n",
       "    <tr>\n",
       "      <th>4</th>\n",
       "      <td>450000</td>\n",
       "      <td>1</td>\n",
       "      <td>1</td>\n",
       "      <td>45</td>\n",
       "      <td>45</td>\n",
       "      <td>Las Condes</td>\n",
       "      <td>Las Condes - Grupo 3</td>\n",
       "      <td>0</td>\n",
       "      <td>0</td>\n",
       "    </tr>\n",
       "  </tbody>\n",
       "</table>\n",
       "</div>"
      ],
      "text/plain": [
       "    price  bedrooms  bathrooms  covered_area_m2  total_area_m2      comuna  \\\n",
       "0  523546         1          1               50             60  Las Condes   \n",
       "1  550000         1          1               30             30  Las Condes   \n",
       "2  400000         1          1               37             37  Las Condes   \n",
       "3  465375         1          1               48             51  Las Condes   \n",
       "4  450000         1          1               45             45  Las Condes   \n",
       "\n",
       "           neighborhood  balcony_area  has_balcony_yn  \n",
       "0  Las Condes - Grupo 3            10               1  \n",
       "1  Las Condes - Grupo 3             0               0  \n",
       "2  Las Condes - Grupo 3             0               0  \n",
       "3  Las Condes - Grupo 3             3               1  \n",
       "4  Las Condes - Grupo 3             0               0  "
      ]
     },
     "execution_count": 3,
     "metadata": {},
     "output_type": "execute_result"
    }
   ],
   "source": [
    "df = pd.read_csv(\"training_data.csv\")\n",
    "df.head()"
   ]
  },
  {
   "cell_type": "markdown",
   "id": "9bd440a2",
   "metadata": {},
   "source": [
    "## Check data"
   ]
  },
  {
   "cell_type": "code",
   "execution_count": 4,
   "id": "25faa849",
   "metadata": {},
   "outputs": [
    {
     "data": {
      "text/html": [
       "<div>\n",
       "<style scoped>\n",
       "    .dataframe tbody tr th:only-of-type {\n",
       "        vertical-align: middle;\n",
       "    }\n",
       "\n",
       "    .dataframe tbody tr th {\n",
       "        vertical-align: top;\n",
       "    }\n",
       "\n",
       "    .dataframe thead th {\n",
       "        text-align: right;\n",
       "    }\n",
       "</style>\n",
       "<table border=\"1\" class=\"dataframe\">\n",
       "  <thead>\n",
       "    <tr style=\"text-align: right;\">\n",
       "      <th></th>\n",
       "      <th>price</th>\n",
       "      <th>covered_area_m2</th>\n",
       "      <th>total_area_m2</th>\n",
       "    </tr>\n",
       "  </thead>\n",
       "  <tbody>\n",
       "    <tr>\n",
       "      <th>count</th>\n",
       "      <td>17508</td>\n",
       "      <td>17508</td>\n",
       "      <td>17508</td>\n",
       "    </tr>\n",
       "    <tr>\n",
       "      <th>mean</th>\n",
       "      <td>556852</td>\n",
       "      <td>65</td>\n",
       "      <td>71</td>\n",
       "    </tr>\n",
       "    <tr>\n",
       "      <th>std</th>\n",
       "      <td>395099</td>\n",
       "      <td>42</td>\n",
       "      <td>47</td>\n",
       "    </tr>\n",
       "    <tr>\n",
       "      <th>min</th>\n",
       "      <td>175000</td>\n",
       "      <td>16</td>\n",
       "      <td>16</td>\n",
       "    </tr>\n",
       "    <tr>\n",
       "      <th>25%</th>\n",
       "      <td>300000</td>\n",
       "      <td>38</td>\n",
       "      <td>40</td>\n",
       "    </tr>\n",
       "    <tr>\n",
       "      <th>50%</th>\n",
       "      <td>420000</td>\n",
       "      <td>50</td>\n",
       "      <td>54</td>\n",
       "    </tr>\n",
       "    <tr>\n",
       "      <th>75%</th>\n",
       "      <td>650000</td>\n",
       "      <td>80</td>\n",
       "      <td>85</td>\n",
       "    </tr>\n",
       "    <tr>\n",
       "      <th>max</th>\n",
       "      <td>2966763</td>\n",
       "      <td>500</td>\n",
       "      <td>535</td>\n",
       "    </tr>\n",
       "  </tbody>\n",
       "</table>\n",
       "</div>"
      ],
      "text/plain": [
       "         price  covered_area_m2  total_area_m2\n",
       "count    17508            17508          17508\n",
       "mean    556852               65             71\n",
       "std     395099               42             47\n",
       "min     175000               16             16\n",
       "25%     300000               38             40\n",
       "50%     420000               50             54\n",
       "75%     650000               80             85\n",
       "max    2966763              500            535"
      ]
     },
     "execution_count": 4,
     "metadata": {},
     "output_type": "execute_result"
    }
   ],
   "source": [
    "df[['price', 'covered_area_m2', 'total_area_m2']].describe().astype('int')"
   ]
  },
  {
   "cell_type": "code",
   "execution_count": 5,
   "id": "a8557d93",
   "metadata": {},
   "outputs": [],
   "source": [
    "df['comuna'] = df['comuna'].astype('category')\n",
    "df['neighborhood'] = df['neighborhood'].astype('category')"
   ]
  },
  {
   "cell_type": "code",
   "execution_count": 6,
   "id": "c40a6a3e",
   "metadata": {},
   "outputs": [
    {
     "name": "stdout",
     "output_type": "stream",
     "text": [
      "<class 'pandas.core.frame.DataFrame'>\n",
      "RangeIndex: 17508 entries, 0 to 17507\n",
      "Data columns (total 9 columns):\n",
      " #   Column           Non-Null Count  Dtype   \n",
      "---  ------           --------------  -----   \n",
      " 0   price            17508 non-null  int64   \n",
      " 1   bedrooms         17508 non-null  int64   \n",
      " 2   bathrooms        17508 non-null  int64   \n",
      " 3   covered_area_m2  17508 non-null  int64   \n",
      " 4   total_area_m2    17508 non-null  int64   \n",
      " 5   comuna           17508 non-null  category\n",
      " 6   neighborhood     17508 non-null  category\n",
      " 7   balcony_area     17508 non-null  int64   \n",
      " 8   has_balcony_yn   17508 non-null  int64   \n",
      "dtypes: category(2), int64(7)\n",
      "memory usage: 995.1 KB\n"
     ]
    }
   ],
   "source": [
    "df.info()"
   ]
  },
  {
   "cell_type": "markdown",
   "id": "5a268c23",
   "metadata": {},
   "source": [
    "## Train machine learning models"
   ]
  },
  {
   "cell_type": "code",
   "execution_count": 7,
   "id": "fc229cda",
   "metadata": {},
   "outputs": [],
   "source": [
    "SEED = 21\n",
    "\n",
    "features_dict = {\n",
    "    'dataset_01': ['bedrooms', 'bathrooms', 'covered_area_m2', 'comuna', 'neighborhood'],\n",
    "    'dataset_02': ['bedrooms', 'bathrooms', 'total_area_m2', 'comuna', 'neighborhood'],\n",
    "    'dataset_03': ['bedrooms', 'bathrooms', 'covered_area_m2', 'has_balcony_yn', 'comuna', 'neighborhood'],\n",
    "    'dataset_04': ['bedrooms', 'bathrooms', 'total_area_m2', 'has_balcony_yn', 'comuna', 'neighborhood'],\n",
    "    'dataset_05': ['bedrooms', 'bathrooms', 'covered_area_m2', 'balcony_area', 'comuna', 'neighborhood'],\n",
    "    'dataset_06': ['bedrooms', 'bathrooms', 'total_area_m2', 'balcony_area', 'comuna', 'neighborhood']\n",
    "}\n",
    "\n",
    "models = {\n",
    "    'RandomForest': RandomForestRegressor(random_state=SEED, n_jobs=-1),\n",
    "    'LightGBM': LGBMRegressor(random_state=SEED, n_jobs=-1),\n",
    "    'CatBoost': CatBoostRegressor(random_seed=SEED, silent=True)\n",
    "}"
   ]
  },
  {
   "cell_type": "code",
   "execution_count": 8,
   "id": "5d2df312",
   "metadata": {},
   "outputs": [
    {
     "data": {
      "text/html": [
       "<div>\n",
       "<style scoped>\n",
       "    .dataframe tbody tr th:only-of-type {\n",
       "        vertical-align: middle;\n",
       "    }\n",
       "\n",
       "    .dataframe tbody tr th {\n",
       "        vertical-align: top;\n",
       "    }\n",
       "\n",
       "    .dataframe thead th {\n",
       "        text-align: right;\n",
       "    }\n",
       "</style>\n",
       "<table border=\"1\" class=\"dataframe\">\n",
       "  <thead>\n",
       "    <tr style=\"text-align: right;\">\n",
       "      <th></th>\n",
       "      <th>dataset</th>\n",
       "      <th>model</th>\n",
       "      <th>seed</th>\n",
       "      <th>avg_score</th>\n",
       "      <th>training_time</th>\n",
       "    </tr>\n",
       "  </thead>\n",
       "  <tbody>\n",
       "    <tr>\n",
       "      <th>0</th>\n",
       "      <td>dataset_01</td>\n",
       "      <td>RandomForest</td>\n",
       "      <td>0</td>\n",
       "      <td>40341.327405</td>\n",
       "      <td>7.775567</td>\n",
       "    </tr>\n",
       "    <tr>\n",
       "      <th>1</th>\n",
       "      <td>dataset_01</td>\n",
       "      <td>RandomForest</td>\n",
       "      <td>1</td>\n",
       "      <td>40248.205500</td>\n",
       "      <td>7.021667</td>\n",
       "    </tr>\n",
       "    <tr>\n",
       "      <th>2</th>\n",
       "      <td>dataset_01</td>\n",
       "      <td>RandomForest</td>\n",
       "      <td>2</td>\n",
       "      <td>40137.688354</td>\n",
       "      <td>6.130374</td>\n",
       "    </tr>\n",
       "    <tr>\n",
       "      <th>3</th>\n",
       "      <td>dataset_01</td>\n",
       "      <td>RandomForest</td>\n",
       "      <td>3</td>\n",
       "      <td>39903.796466</td>\n",
       "      <td>6.633214</td>\n",
       "    </tr>\n",
       "    <tr>\n",
       "      <th>4</th>\n",
       "      <td>dataset_01</td>\n",
       "      <td>RandomForest</td>\n",
       "      <td>4</td>\n",
       "      <td>40462.183956</td>\n",
       "      <td>7.044327</td>\n",
       "    </tr>\n",
       "    <tr>\n",
       "      <th>...</th>\n",
       "      <td>...</td>\n",
       "      <td>...</td>\n",
       "      <td>...</td>\n",
       "      <td>...</td>\n",
       "      <td>...</td>\n",
       "    </tr>\n",
       "    <tr>\n",
       "      <th>175</th>\n",
       "      <td>dataset_06</td>\n",
       "      <td>CatBoost</td>\n",
       "      <td>5</td>\n",
       "      <td>38290.997265</td>\n",
       "      <td>8.808903</td>\n",
       "    </tr>\n",
       "    <tr>\n",
       "      <th>176</th>\n",
       "      <td>dataset_06</td>\n",
       "      <td>CatBoost</td>\n",
       "      <td>6</td>\n",
       "      <td>37864.278722</td>\n",
       "      <td>9.283784</td>\n",
       "    </tr>\n",
       "    <tr>\n",
       "      <th>177</th>\n",
       "      <td>dataset_06</td>\n",
       "      <td>CatBoost</td>\n",
       "      <td>7</td>\n",
       "      <td>38266.925576</td>\n",
       "      <td>8.474000</td>\n",
       "    </tr>\n",
       "    <tr>\n",
       "      <th>178</th>\n",
       "      <td>dataset_06</td>\n",
       "      <td>CatBoost</td>\n",
       "      <td>8</td>\n",
       "      <td>38415.356282</td>\n",
       "      <td>8.655006</td>\n",
       "    </tr>\n",
       "    <tr>\n",
       "      <th>179</th>\n",
       "      <td>dataset_06</td>\n",
       "      <td>CatBoost</td>\n",
       "      <td>9</td>\n",
       "      <td>38398.737089</td>\n",
       "      <td>8.654998</td>\n",
       "    </tr>\n",
       "  </tbody>\n",
       "</table>\n",
       "<p>180 rows × 5 columns</p>\n",
       "</div>"
      ],
      "text/plain": [
       "        dataset         model  seed     avg_score  training_time\n",
       "0    dataset_01  RandomForest     0  40341.327405       7.775567\n",
       "1    dataset_01  RandomForest     1  40248.205500       7.021667\n",
       "2    dataset_01  RandomForest     2  40137.688354       6.130374\n",
       "3    dataset_01  RandomForest     3  39903.796466       6.633214\n",
       "4    dataset_01  RandomForest     4  40462.183956       7.044327\n",
       "..          ...           ...   ...           ...            ...\n",
       "175  dataset_06      CatBoost     5  38290.997265       8.808903\n",
       "176  dataset_06      CatBoost     6  37864.278722       9.283784\n",
       "177  dataset_06      CatBoost     7  38266.925576       8.474000\n",
       "178  dataset_06      CatBoost     8  38415.356282       8.655006\n",
       "179  dataset_06      CatBoost     9  38398.737089       8.654998\n",
       "\n",
       "[180 rows x 5 columns]"
      ]
     },
     "execution_count": 8,
     "metadata": {},
     "output_type": "execute_result"
    }
   ],
   "source": [
    "NUM_SEEDS = 10\n",
    "results = []\n",
    "\n",
    "for dataset_key in features_dict:\n",
    "    # Define features and target\n",
    "    features = features_dict[dataset_key]\n",
    "    X = df[features]\n",
    "    y = df['price']\n",
    "    \n",
    "    # Get dummy variables\n",
    "    X = pd.get_dummies(X)\n",
    "        \n",
    "    # Train tree-base models\n",
    "    for model_key in models:     \n",
    "        estimator = models[model_key]\n",
    "        \n",
    "        for num in range(NUM_SEEDS):\n",
    "            CV = KFold(n_splits=5, shuffle=True, random_state=num)\n",
    "        \n",
    "            # Evaluate model using cross validation\n",
    "            start = time()\n",
    "            scores = cross_val_score(estimator, \n",
    "                                     X, y, \n",
    "                                     scoring='neg_median_absolute_error', \n",
    "                                     cv=CV, \n",
    "                                     n_jobs=-1)\n",
    "            end = time()\n",
    "            \n",
    "            row = []\n",
    "            row.extend([\n",
    "                dataset_key, \n",
    "                model_key, \n",
    "                num, \n",
    "                abs(scores.mean()), \n",
    "                end - start\n",
    "            ])\n",
    "            results.append(row)\n",
    "        \n",
    "# Create dataframe with results\n",
    "df_columns = [\n",
    "    'dataset', \n",
    "    'model', \n",
    "    'seed', \n",
    "    'avg_score', \n",
    "    'training_time'\n",
    "] \n",
    "results_df = pd.DataFrame(results, columns=df_columns)\n",
    "results_df"
   ]
  },
  {
   "cell_type": "markdown",
   "id": "b98d0325",
   "metadata": {},
   "source": [
    "## Analyze results"
   ]
  },
  {
   "cell_type": "code",
   "execution_count": 9,
   "id": "c6de6962",
   "metadata": {},
   "outputs": [
    {
     "data": {
      "text/plain": [
       "1017.9948308467865"
      ]
     },
     "execution_count": 9,
     "metadata": {},
     "output_type": "execute_result"
    }
   ],
   "source": [
    "# Total training time\n",
    "results_df['training_time'].sum()"
   ]
  },
  {
   "cell_type": "code",
   "execution_count": 10,
   "id": "e7cc47a2",
   "metadata": {},
   "outputs": [
    {
     "data": {
      "text/plain": [
       "model\n",
       "CatBoost        38595\n",
       "RandomForest    39356\n",
       "LightGBM        39580\n",
       "Name: avg_score, dtype: int32"
      ]
     },
     "execution_count": 10,
     "metadata": {},
     "output_type": "execute_result"
    }
   ],
   "source": [
    "# Average score for each model\n",
    "results_df.groupby('model')['avg_score'].mean().sort_values().astype('int')"
   ]
  },
  {
   "cell_type": "code",
   "execution_count": 11,
   "id": "05b8501c",
   "metadata": {},
   "outputs": [
    {
     "data": {
      "text/plain": [
       "model\n",
       "LightGBM        0.543989\n",
       "RandomForest    7.523682\n",
       "CatBoost        8.898909\n",
       "Name: training_time, dtype: float64"
      ]
     },
     "execution_count": 11,
     "metadata": {},
     "output_type": "execute_result"
    }
   ],
   "source": [
    "# Average training time for each model\n",
    "results_df.groupby('model')['training_time'].mean().sort_values()"
   ]
  },
  {
   "cell_type": "code",
   "execution_count": 12,
   "id": "a7f6a17a",
   "metadata": {},
   "outputs": [
    {
     "data": {
      "text/plain": [
       "model         dataset   \n",
       "CatBoost      dataset_05    38121\n",
       "              dataset_06    38240\n",
       "              dataset_04    38341\n",
       "              dataset_02    38496\n",
       "RandomForest  dataset_05    38762\n",
       "              dataset_06    38797\n",
       "CatBoost      dataset_03    38897\n",
       "LightGBM      dataset_06    39266\n",
       "              dataset_04    39301\n",
       "RandomForest  dataset_04    39368\n",
       "LightGBM      dataset_02    39369\n",
       "              dataset_05    39391\n",
       "RandomForest  dataset_02    39409\n",
       "CatBoost      dataset_01    39476\n",
       "RandomForest  dataset_03    39588\n",
       "LightGBM      dataset_03    39817\n",
       "RandomForest  dataset_01    40211\n",
       "LightGBM      dataset_01    40336\n",
       "Name: avg_score, dtype: int32"
      ]
     },
     "execution_count": 12,
     "metadata": {},
     "output_type": "execute_result"
    }
   ],
   "source": [
    "# Average score for each model and dataset combination\n",
    "results_df.groupby(['model', 'dataset'])['avg_score'].mean().sort_values().astype('int')"
   ]
  },
  {
   "cell_type": "code",
   "execution_count": 13,
   "id": "73e8d912",
   "metadata": {
    "scrolled": false
   },
   "outputs": [
    {
     "data": {
      "image/png": "[encoded data removed]",
      "text/plain": [
       "<Figure size 504x360 with 1 Axes>"
      ]
     },
     "metadata": {
      "needs_background": "light"
     },
     "output_type": "display_data"
    }
   ],
   "source": [
    "plt.figure(figsize=(7,5))\n",
    "sb.boxplot(x='model', y='avg_score', data=results_df)\n",
    "plt.xlabel(\"\")\n",
    "plt.show()"
   ]
  },
  {
   "cell_type": "code",
   "execution_count": 14,
   "id": "5b27770d",
   "metadata": {},
   "outputs": [
    {
     "data": {
      "image/png": "[encoded data removed]",
      "text/plain": [
       "<Figure size 864x288 with 3 Axes>"
      ]
     },
     "metadata": {
      "needs_background": "light"
     },
     "output_type": "display_data"
    }
   ],
   "source": [
    "fig, axes = plt.subplots(1, 3, figsize=(12, 4))\n",
    "\n",
    "for ax, model in zip(axes.flatten(), models.keys()):\n",
    "    data = results_df[results_df['model']==model]\n",
    "    sb.histplot(data=data['avg_score'], kde=True, ax=ax, binwidth=200)\n",
    "    ax.set_title(model)\n",
    "    \n",
    "    fig.tight_layout()"
   ]
  },
  {
   "cell_type": "markdown",
   "id": "f45ba5b8",
   "metadata": {},
   "source": [
    "### Analyze results by dataset for CatBoost"
   ]
  },
  {
   "cell_type": "code",
   "execution_count": 15,
   "id": "1eaa29ee",
   "metadata": {},
   "outputs": [],
   "source": [
    "catboost_results_df = results_df[results_df['model']=='CatBoost']"
   ]
  },
  {
   "cell_type": "code",
   "execution_count": 16,
   "id": "5b6310a8",
   "metadata": {},
   "outputs": [
    {
     "data": {
      "text/plain": [
       "dataset\n",
       "dataset_05    38121.587280\n",
       "dataset_06    38240.287676\n",
       "dataset_04    38341.525954\n",
       "dataset_02    38496.374746\n",
       "dataset_03    38897.376184\n",
       "dataset_01    39476.413391\n",
       "Name: avg_score, dtype: float64"
      ]
     },
     "execution_count": 16,
     "metadata": {},
     "output_type": "execute_result"
    }
   ],
   "source": [
    "avg_score_by_dataset = catboost_results_df.groupby('dataset')['avg_score'].mean().sort_values()\n",
    "avg_score_by_dataset"
   ]
  },
  {
   "cell_type": "code",
   "execution_count": 17,
   "id": "0297771c",
   "metadata": {},
   "outputs": [
    {
     "data": {
      "image/png": "[encoded data removed]",
      "text/plain": [
       "<Figure size 864x288 with 3 Axes>"
      ]
     },
     "metadata": {
      "needs_background": "light"
     },
     "output_type": "display_data"
    }
   ],
   "source": [
    "sorted_datasets = avg_score_by_dataset.index.tolist()\n",
    "fig, axes = plt.subplots(1, 3, figsize=(12, 4))\n",
    "\n",
    "for ax, dataset in zip(axes.flatten(), sorted_datasets[:3]):\n",
    "    data = catboost_results_df[\n",
    "        (catboost_results_df['dataset']==dataset)\n",
    "    ]\n",
    "    sb.histplot(data=data['avg_score'], kde=True, ax=ax, binwidth=50)\n",
    "    ax.set_title(dataset)\n",
    "    \n",
    "    fig.tight_layout()"
   ]
  },
  {
   "cell_type": "code",
   "execution_count": null,
   "id": "9371ba91",
   "metadata": {},
   "outputs": [],
   "source": []
  }
 ],
 "metadata": {
  "kernelspec": {
   "display_name": "Python 3",
   "language": "python",
   "name": "python3"
  },
  "language_info": {
   "codemirror_mode": {
    "name": "ipython",
    "version": 3
   },
   "file_extension": ".py",
   "mimetype": "text/x-python",
   "name": "python",
   "nbconvert_exporter": "python",
   "pygments_lexer": "ipython3",
   "version": "3.7.3"
  }
 },
 "nbformat": 4,
 "nbformat_minor": 5
}
